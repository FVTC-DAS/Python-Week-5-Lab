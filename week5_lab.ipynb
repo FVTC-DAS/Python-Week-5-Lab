{
  "cells": [
    {
      "cell_type": "markdown",
      "metadata": {},
      "source": [
        "# Week 5 Lab: For and While Loops\n",
        "Complete each task in the cells provided. Run all cells before committing and pushing."
      ]
    },
    {
      "cell_type": "markdown",
      "metadata": {},
      "source": [
        "## Task 1: Countdown\n",
        "Use a `while` loop to count down from 10 to 1, then print `Blastoff!`."
      ]
    },
    {
      "cell_type": "code",
      "execution_count": null,
      "metadata": {},
      "outputs": [],
      "source": [
        "# TODO: Write your while-loop countdown here\n"
      ]
    },
    {
      "cell_type": "markdown",
      "metadata": {},
      "source": [
        "## Task 2: FizzBuzz\n",
        "Iterate from 1 to 100. Print Fizz, Buzz, FizzBuzz, or the number as specified."
      ]
    },
    {
      "cell_type": "code",
      "execution_count": null,
      "metadata": {},
      "outputs": [],
      "source": [
        "# TODO: Write your FizzBuzz for-loop here\n"
      ]
    },
    {
      "cell_type": "markdown",
      "metadata": {},
      "source": [
        "## Task 3: Sum of a Range\n",
        "Ask for a positive integer; sum from 1 to that number using a `for` loop and `range()`."
      ]
    },
    {
      "cell_type": "code",
      "execution_count": null,
      "metadata": {},
      "outputs": [],
      "source": [
        "# TODO: Ask for input and compute the sum from 1..n here\n"
      ]
    },
    {
      "cell_type": "markdown",
      "metadata": {},
      "source": [
        "---\n",
        "**Reminder:** Save, then commit and push your changes back to GitHub Classroom."
      ]
    }
  ],
  "metadata": {
    "kernelspec": {
      "display_name": "Python 3",
      "language": "python",
      "name": "python3"
    },
    "language_info": {
      "name": "python",
      "version": "3.x"
    }
  },
  "nbformat": 4,
  "nbformat_minor": 2
}